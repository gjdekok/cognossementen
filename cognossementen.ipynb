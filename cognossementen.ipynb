{
 "cells": [
  {
   "cell_type": "markdown",
   "metadata": {},
   "source": [
    "# Cognossementen in de *Dutch Prize Papers*: een algoritmische verkenning\n",
    "\n",
    "Gerhard de Kok\n",
    "\n",
    "Oorlog is *business*. Dat gold vroeger net als nu, hoewel niet altijd op dezelfde manier. Tot in de negentiende eeuw was kaapvaart een valide manier van oorlogvoering op zee. Voorzien van een kaperbrief zochten kapiteins van kaperschepen op zee naar particuliere schepen onder de vlag van de vijand. Ook neutrale schepen die goederen van een vijand vervoerden beschouwden de Britten als valide buit. Bij een verovering kwam een deel van de opbrengst van de *prize* (het gekaapte schip) ten goede aan de eigenaar en bemanning van het kaperschip. \n",
    "\n",
    "Varen ter kaapvaart was een gereguleerde bedrijfstak. Een bevoegde instantie moest de kaping goedkeuren en de eigenaren van het gekaapte schip konden eventueel bezwaar aantekenen. In Engeland (later het Verenigd Koninkrijk) was een *Prize Court* verantwoordelijk voor de juridische afwikkeling van kapingen. Om onder meer de nationaliteit van schepen en ladingen vast te stellen, werden bemanningsleden van gekaapte schepen ondervraagd en werden op het schip aanwezige documenten geconfisceerd. Veel van dat bewijsmateriaal is bewaard gebleven in het archief van de *High Court of Admiralty* (National Archives te Kew). Vooral de geconfisceerde correspondentie heeft de aandacht getrokken, maar de gekaapte paperassen omvatten ook andere documenten.\n",
    "\n",
    "Met een subsidie van [Metamorfoze](https://www.metamorfoze.nl/) zijn zo'n 144.000 pagina's van de Prize Papers [gedigitaliseerd](https://www.nationaalarchief.nl/onderzoeken/archief/2.22.24). De selectie omvatte een grote hoeveelheid materiaal afkomstig van Nederlandse schepen. Binnen het project [Dutch Prize Papers](https://prizepapers.huygens.knaw.nl/) van het Huygens Instituut zijn bijna 100.000 scans automatisch getranscribeert met behulp van handschriftherkenning. Die dataset vormt de basis van dit notebook.\n",
    "\n",
    "## Automatische extractie van cognossementen\n",
    "Via de API van het Huygens Instituut zijn de HTR-transcripties (gegenereerd met Loghi) binnengehaald. Het betreft de transcripties van 98.897 scans. Dit notebook gebruikt Python om deze transcripties te doorzoeken en te pogen één bepaald type document eruit te filteren: de cognossementen. \n",
    "\n",
    "Cognossementen (ook: vrachtbriefjes) bevatten details over in schepen geladen goederen. Het gaat onder meer over de verzender, de beoogde ontvanger en een specificatie van de goederen. [Marijcke Schillings](https://www.huygens.knaw.nl/medewerkers/marijcke-schillings/) van het Huygens Instituut is bezig met een project om gegevens uit deze cognossementen in een database te verwerken. Daarvoor is het noodzakelijk dat dit documenttype eerst op een betrouwbare en eenvoudige manier geëxtraheerd kan worden uit het volledige corpus aan transcripties. \n",
    "\n",
    "Bij de extractie van cognossementen kan gebruik gemaakt worden van enkele eigenschappen van dit documenttype. Vaak bevatten vrachtbriefjes dezelfde formulaïsche zinssneden (veelal waren de sjablonen zelfs voorgedrukt). Daarnaast geldt voor veel scans van cognossementen dat deze niet hoger zijn dan 1400 pixels, gezien het formaat van het brondocument. De hoogte is opgenomen in de Page-XML output van Loghi en is bovendien bekend uit de IIIF API van het Huygens Instituut. Het onderstaande script kent punten toe aan documenten die typische 'vrachtbriefjes'-zinsneden bevatten en een bonuspunt voor documenten met een maximale hoogte van 1400 pixels."
   ]
  },
  {
   "cell_type": "code",
   "execution_count": 1,
   "metadata": {},
   "outputs": [],
   "source": [
    "# Om te beginnen importeren we enkele noodzakelijke Python libraries\n",
    "import sqlite3 # Om te communiceren met de database\n",
    "from rapidfuzz import fuzz # Om snel fuzzy te kunnen zoeken door de teksten\n",
    "import pandas as pd # Om de dataset te beheren en analyseren\n",
    "import matplotlib.pyplot as plt # Om grafieken te plotten\n",
    "from concurrent.futures import ProcessPoolExecutor, as_completed # Voor parallel processen van data"
   ]
  },
  {
   "cell_type": "code",
   "execution_count": 2,
   "metadata": {},
   "outputs": [],
   "source": [
    "# Ook maken we verbinding met de database vol Prize Paper transcripties.\n",
    "path_to_db = '../prizepapers/assets/prize_papers_db.db'"
   ]
  },
  {
   "cell_type": "markdown",
   "metadata": {},
   "source": [
    "Na bestudering van een aantal cognossementen zijn enkele kenmerken van dit documenttype geselecteerd, zoals de vaak voorkomende maximale hoogte. Daarnaast zijn de volgende zinssneden geselecteerd die redelijk uniek zijn voor vrachtbriefjes:"
   ]
  },
  {
   "cell_type": "code",
   "execution_count": 3,
   "metadata": {},
   "outputs": [],
   "source": [
    "# Zinsneden die redelijk uniek zijn voor cognossementen\n",
    "cognossement_phrases = [\n",
    "    \"eersten goeden windt\",\n",
    "    \"nu ter tydt gereedt\",\n",
    "    \"rechte ontladinge\",\n",
    "    \"den overloop\",\n",
    "    \"wel geconditioneert\",\n",
    "    \"indien mijn Godt behouden reyse\",\n",
    "    \"usantien van de zee\",\n",
    "    \"Averye na der Usantien\",\n",
    "    \"dit voorstaende merck\",\n",
    "    \"connossementen\",\n",
    "]\n",
    "\n",
    "# De meeste cognossementen hebben een hoogte van maximaal 1400 pixels\n",
    "max_height = 1400"
   ]
  },
  {
   "cell_type": "markdown",
   "metadata": {},
   "source": [
    "Nu schrijven we een functie die punten toekent aan transcripties die voldoen aan de bovenstaande kenmerken."
   ]
  },
  {
   "cell_type": "code",
   "execution_count": 4,
   "metadata": {},
   "outputs": [],
   "source": [
    "def calculate_confidence(transcription, height):\n",
    "    \"\"\"\n",
    "    Functie om een waarschijnlijkheidscore te berekenen --> hoe waarschijnlijk is een document een cognossement?\n",
    "    Iedere match met een van de cognossement_phrases levert een punt op, met een bonuspunt als het document\n",
    "    niet hoger is de de max_height.    \n",
    "    \"\"\"\n",
    "    score = 0\n",
    "    for phrase in cognossement_phrases:\n",
    "        # Using rapidfuzz for fuzzy matching; partial_ratio for partial matches\n",
    "        match_score = fuzz.partial_ratio(phrase.lower(), transcription.lower())\n",
    "        if match_score > 80: \n",
    "            score += 1\n",
    "\n",
    "    if height <= max_height:\n",
    "        score += 1\n",
    "    return score"
   ]
  },
  {
   "cell_type": "markdown",
   "metadata": {},
   "source": [
    "Om het script sneller te laten draaien, splitsen we het corpus op in delen en gebruiken we multiprocessing om die delen afzonderlijk te verwerken."
   ]
  },
  {
   "cell_type": "code",
   "execution_count": 5,
   "metadata": {},
   "outputs": [],
   "source": [
    "def process_chunk(chunk):\n",
    "    \"\"\"Functie om een deel van de transcripties te beoordelen.\"\"\"\n",
    "    results = []\n",
    "    for index, row in chunk.iterrows():\n",
    "        score = calculate_confidence(row['transcription'], row['height'])\n",
    "        if score > 2:\n",
    "            results.append({\n",
    "                \"transcriptionId\": row['transcriptionId'],\n",
    "                \"confidence\": score,\n",
    "                \"invNo\": row['invNo'],  \n",
    "                \"year\": row['year']\n",
    "            })\n",
    "    return results\n",
    "\n",
    "def chunk_dataframe(df, chunk_size):\n",
    "    \"\"\"Functie om een df op te delen in chunks (voor parallel processing)\"\"\"\n",
    "    return [df[i:i + chunk_size] for i in range(0, df.shape[0], chunk_size)]\n",
    "\n",
    "def parallel_process(chunks):\n",
    "    \"\"\"Functie om de chuncks in parallel te verwerken.\"\"\"\n",
    "    results = []\n",
    "    with ProcessPoolExecutor() as executor:\n",
    "        future_to_chunk = {executor.submit(process_chunk, chunk): chunk for chunk in chunks}\n",
    "        for i, future in enumerate(as_completed(future_to_chunk), 1):\n",
    "            result = future.result()\n",
    "            results.extend(result)\n",
    "\n",
    "    return results"
   ]
  },
  {
   "cell_type": "markdown",
   "metadata": {},
   "source": [
    "Daarnaast halen we de data eerst uit de database en stoppen die in een Pandas dataframe, zodat we er gemakkelijker mee kunnen werken."
   ]
  },
  {
   "cell_type": "code",
   "execution_count": 6,
   "metadata": {},
   "outputs": [],
   "source": [
    "# Stop de data uit de Prize Papers database in een Pandas dataframe\n",
    "conn = sqlite3.connect(path_to_db)\n",
    "query = \"\"\"\n",
    "SELECT t.transcriptionId, t.transcription, tm.height, ce.yearstart AS year, ce.invNo\n",
    "FROM Transcriptions t\n",
    "JOIN TranscriptionMetadata tm ON t.transcriptionId = tm.transcriptionId\n",
    "JOIN CaptureEvents ce ON tm.eventId = ce.eventId\n",
    "\"\"\"\n",
    "df = pd.read_sql_query(query, conn)\n",
    "conn.close()"
   ]
  },
  {
   "cell_type": "markdown",
   "metadata": {},
   "source": [
    "Nu alle elementen op z'n plaats zijn, is het tijd om het script te laten draaien:"
   ]
  },
  {
   "cell_type": "code",
   "execution_count": 7,
   "metadata": {},
   "outputs": [],
   "source": [
    "# Knip de data op in stukken en verwerk de stukken in parallel\n",
    "chunk_size = 10_000 \n",
    "chunks = chunk_dataframe(df, chunk_size)\n",
    "flat_results = parallel_process(chunks)\n",
    "\n",
    "# Bewaar de resultaten in een Pandas dataframe\n",
    "results_df = pd.DataFrame(flat_results)\n",
    "\n",
    "# Maak twee samenvattingen: aantal cognossementen per inventarisnummer en per jaar\n",
    "summary_invNo = results_df.groupby('invNo').size().reset_index(name='aantal cognossementen')\n",
    "summary_year = results_df.groupby('year').size().reset_index(name='aantal cognossementen')"
   ]
  },
  {
   "cell_type": "markdown",
   "metadata": {},
   "source": [
    "We hebben nu de resultaten en kunnen nu kijken hoeveel cognossementen we hebben gevonden. Ook kunnen we visualisaties maken met Matplotlib, bijvoorbeeld om het aantal gevonden cognossementen per jaar te laten zien."
   ]
  },
  {
   "cell_type": "code",
   "execution_count": 8,
   "metadata": {},
   "outputs": [
    {
     "data": {
      "text/plain": [
       "2954"
      ]
     },
     "execution_count": 8,
     "metadata": {},
     "output_type": "execute_result"
    }
   ],
   "source": [
    "len(results_df)"
   ]
  },
  {
   "cell_type": "code",
   "execution_count": 9,
   "metadata": {},
   "outputs": [
    {
     "data": {
      "image/png": "[encoded data removed]",
      "text/plain": [
       "<Figure size 1000x600 with 1 Axes>"
      ]
     },
     "metadata": {},
     "output_type": "display_data"
    }
   ],
   "source": [
    "# Plotting the number of cognossementen per year as a bar chart\n",
    "plt.figure(figsize=(10, 6))\n",
    "plt.bar(summary_year['year'], summary_year['aantal cognossementen'], color='skyblue')\n",
    "plt.title('Aantal Cognossementen per jaar')\n",
    "plt.xlabel('Jaar')\n",
    "plt.ylabel('Aantal cognossementen')\n",
    "plt.xticks(rotation=45)\n",
    "plt.tight_layout()\n",
    "plt.show()"
   ]
  },
  {
   "cell_type": "code",
   "execution_count": 10,
   "metadata": {},
   "outputs": [
    {
     "data": {
      "text/html": [
       "<div>\n",
       "<style scoped>\n",
       "    .dataframe tbody tr th:only-of-type {\n",
       "        vertical-align: middle;\n",
       "    }\n",
       "\n",
       "    .dataframe tbody tr th {\n",
       "        vertical-align: top;\n",
       "    }\n",
       "\n",
       "    .dataframe thead th {\n",
       "        text-align: right;\n",
       "    }\n",
       "</style>\n",
       "<table border=\"1\" class=\"dataframe\">\n",
       "  <thead>\n",
       "    <tr style=\"text-align: right;\">\n",
       "      <th></th>\n",
       "      <th>transcriptionId</th>\n",
       "      <th>confidence</th>\n",
       "      <th>invNo</th>\n",
       "      <th>year</th>\n",
       "    </tr>\n",
       "  </thead>\n",
       "  <tbody>\n",
       "    <tr>\n",
       "      <th>0</th>\n",
       "      <td>30083</td>\n",
       "      <td>10</td>\n",
       "      <td>HCA30-342</td>\n",
       "      <td>1781.0</td>\n",
       "    </tr>\n",
       "    <tr>\n",
       "      <th>1</th>\n",
       "      <td>30085</td>\n",
       "      <td>8</td>\n",
       "      <td>HCA30-342</td>\n",
       "      <td>1781.0</td>\n",
       "    </tr>\n",
       "    <tr>\n",
       "      <th>2</th>\n",
       "      <td>30115</td>\n",
       "      <td>9</td>\n",
       "      <td>HCA30-342</td>\n",
       "      <td>1781.0</td>\n",
       "    </tr>\n",
       "    <tr>\n",
       "      <th>3</th>\n",
       "      <td>30121</td>\n",
       "      <td>10</td>\n",
       "      <td>HCA30-342</td>\n",
       "      <td>1781.0</td>\n",
       "    </tr>\n",
       "    <tr>\n",
       "      <th>4</th>\n",
       "      <td>30134</td>\n",
       "      <td>10</td>\n",
       "      <td>HCA30-342</td>\n",
       "      <td>1781.0</td>\n",
       "    </tr>\n",
       "    <tr>\n",
       "      <th>...</th>\n",
       "      <td>...</td>\n",
       "      <td>...</td>\n",
       "      <td>...</td>\n",
       "      <td>...</td>\n",
       "    </tr>\n",
       "    <tr>\n",
       "      <th>2949</th>\n",
       "      <td>94015</td>\n",
       "      <td>6</td>\n",
       "      <td>HCA32-797.28</td>\n",
       "      <td>1799.0</td>\n",
       "    </tr>\n",
       "    <tr>\n",
       "      <th>2950</th>\n",
       "      <td>94016</td>\n",
       "      <td>3</td>\n",
       "      <td>HCA32-797.28</td>\n",
       "      <td>1799.0</td>\n",
       "    </tr>\n",
       "    <tr>\n",
       "      <th>2951</th>\n",
       "      <td>94017</td>\n",
       "      <td>4</td>\n",
       "      <td>HCA32-797.28</td>\n",
       "      <td>1799.0</td>\n",
       "    </tr>\n",
       "    <tr>\n",
       "      <th>2952</th>\n",
       "      <td>94161</td>\n",
       "      <td>7</td>\n",
       "      <td>HCA32-797.33</td>\n",
       "      <td>1800.0</td>\n",
       "    </tr>\n",
       "    <tr>\n",
       "      <th>2953</th>\n",
       "      <td>95456</td>\n",
       "      <td>8</td>\n",
       "      <td>HCA32-8A.9</td>\n",
       "      <td>1656.0</td>\n",
       "    </tr>\n",
       "  </tbody>\n",
       "</table>\n",
       "<p>2954 rows × 4 columns</p>\n",
       "</div>"
      ],
      "text/plain": [
       "      transcriptionId  confidence         invNo    year\n",
       "0               30083          10     HCA30-342  1781.0\n",
       "1               30085           8     HCA30-342  1781.0\n",
       "2               30115           9     HCA30-342  1781.0\n",
       "3               30121          10     HCA30-342  1781.0\n",
       "4               30134          10     HCA30-342  1781.0\n",
       "...               ...         ...           ...     ...\n",
       "2949            94015           6  HCA32-797.28  1799.0\n",
       "2950            94016           3  HCA32-797.28  1799.0\n",
       "2951            94017           4  HCA32-797.28  1799.0\n",
       "2952            94161           7  HCA32-797.33  1800.0\n",
       "2953            95456           8    HCA32-8A.9  1656.0\n",
       "\n",
       "[2954 rows x 4 columns]"
      ]
     },
     "execution_count": 10,
     "metadata": {},
     "output_type": "execute_result"
    }
   ],
   "source": [
    "results_df"
   ]
  },
  {
   "cell_type": "code",
   "execution_count": null,
   "metadata": {},
   "outputs": [],
   "source": []
  }
 ],
 "metadata": {
  "kernelspec": {
   "display_name": "venv",
   "language": "python",
   "name": "python3"
  },
  "language_info": {
   "codemirror_mode": {
    "name": "ipython",
    "version": 3
   },
   "file_extension": ".py",
   "mimetype": "text/x-python",
   "name": "python",
   "nbconvert_exporter": "python",
   "pygments_lexer": "ipython3",
   "version": "3.10.12"
  }
 },
 "nbformat": 4,
 "nbformat_minor": 2
}
